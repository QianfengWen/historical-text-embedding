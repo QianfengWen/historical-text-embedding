{
 "cells": [
  {
   "cell_type": "code",
   "execution_count": 1,
   "metadata": {},
   "outputs": [
    {
     "name": "stdout",
     "output_type": "stream",
     "text": [
      "Requirement already satisfied: levenshtein in /Users/xgao/anaconda3/lib/python3.11/site-packages (0.25.0)\n",
      "Requirement already satisfied: rapidfuzz<4.0.0,>=3.1.0 in /Users/xgao/anaconda3/lib/python3.11/site-packages (from levenshtein) (3.6.2)\n"
     ]
    }
   ],
   "source": [
    "!pip install levenshtein"
   ]
  },
  {
   "cell_type": "code",
   "execution_count": 1,
   "metadata": {},
   "outputs": [],
   "source": [
    "import pandas as pd\n",
    "import numpy as np\n",
    "import matplotlib.pyplot as plt\n",
    "import seaborn as sns\n",
    "from Levenshtein import ratio, distance\n",
    "from collections import Counter"
   ]
  },
  {
   "cell_type": "code",
   "execution_count": 5,
   "metadata": {},
   "outputs": [],
   "source": [
    "AngTextPath = '../data/AngOrdtext'\n",
    "EngTextPath = '../data/EngOrdtext'\n",
    "\n"
   ]
  },
  {
   "cell_type": "code",
   "execution_count": 3,
   "metadata": {},
   "outputs": [],
   "source": [
    "def get_sentences(filepath):\n",
    "    '''\n",
    "    Read a file and return a list of sentences\n",
    "    '''\n",
    "    with open(filepath, \"r\") as f:\n",
    "        lines = f.readlines()\n",
    "        return [line for line in lines]\n",
    "    \n",
    "def get_words(filepath):\n",
    "    '''\n",
    "    Read a file and return a list of words\n",
    "    '''\n",
    "    with open(filepath, \"r\") as f:\n",
    "        lines = f.readlines()\n",
    "        return [word for line in lines for word in line.split()]\n",
    "\n",
    "def get_freq(filepath):\n",
    "    '''\n",
    "    Get frequency of words in a file\n",
    "    '''\n",
    "    with open(filepath, \"r\") as f:\n",
    "        lines = f.readlines()\n",
    "        return Counter([word for line in lines for word in line.split()])"
   ]
  },
  {
   "cell_type": "markdown",
   "metadata": {},
   "source": [
    "# Functions"
   ]
  },
  {
   "cell_type": "code",
   "execution_count": 5,
   "metadata": {},
   "outputs": [],
   "source": [
    "def read_text_data(filepath):    \n",
    "    sentences = []\n",
    "    for line in open(filepath):\n",
    "        words = line.split()\n",
    "        sentence = [word for word in words]\n",
    "        sentences.append(sentence)\n",
    "    return sentences\n",
    "\n",
    "def read_data(filepath):\n",
    "    all_words = []\n",
    "    for line in open(filepath):\n",
    "        words = line.split()\n",
    "        sentence = [word for word in words]\n",
    "        all_words.extend(sentence)\n",
    "    return all_words\n",
    "\n",
    "def get_word_count(sentences):\n",
    "    all_words = [word for sentence in sentences for word in sentence]\n",
    "    word_count = len(all_words)\n",
    "    distinct_word_count = len(set(all_words))\n",
    "    return all_words, word_count, distinct_word_count"
   ]
  },
  {
   "cell_type": "markdown",
   "metadata": {},
   "source": [
    "# Read data"
   ]
  },
  {
   "cell_type": "code",
   "execution_count": 8,
   "metadata": {},
   "outputs": [
    {
     "name": "stdout",
     "output_type": "stream",
     "text": [
      "Anglo-Saxon word count: 488612\n",
      "English word count: 3564443\n",
      "Anglo-Saxon distinct word count: 60575\n",
      "English distinct word count: 111999\n"
     ]
    }
   ],
   "source": [
    "ang_words = get_words(AngTextPath)\n",
    "print('Anglo-Saxon word count:', len(ang_words))\n",
    "eng_words = get_words(EngTextPath)\n",
    "print('English word count:', len(eng_words))\n",
    "print('Anglo-Saxon distinct word count:', len(set(ang_words)))\n",
    "print('English distinct word count:', len(set(eng_words)))\n"
   ]
  },
  {
   "cell_type": "code",
   "execution_count": 20,
   "metadata": {},
   "outputs": [
    {
     "name": "stdout",
     "output_type": "stream",
     "text": [
      "Anglo-Saxon sentence count: 1432\n",
      "English sentence count: 16976\n",
      "Ang Mean sentence length: 341.20949720670393\n",
      "Ang Standard deviation of sentence length: 290.300772498378\n",
      "Eng Mean sentence length: 209.9695452403393\n",
      "Eng Standard deviation of sentence length: 166.68178503716834\n"
     ]
    }
   ],
   "source": [
    "import numpy as np\n",
    "ang_stc = get_sentences(AngTextPath)\n",
    "print('Anglo-Saxon sentence count:', len(ang_stc))\n",
    "eng_stc = get_sentences(EngTextPath)\n",
    "print('English sentence count:', len(eng_stc))\n",
    "\n",
    "# Calculate the length of each sentence\n",
    "ang_stc_len = [len(sentence.split()) for sentence in ang_stc]\n",
    "print('Ang Mean sentence length:', np.mean(ang_stc_len))\n",
    "print('Ang Standard deviation of sentence length:', np.std(ang_stc_len))\n",
    "\n",
    "eng_stc_len = [len(sentence.split()) for sentence in eng_stc]\n",
    "print('Eng Mean sentence length:', np.mean(eng_stc_len))\n",
    "print('Eng Standard deviation of sentence length:', np.std(eng_stc_len))\n"
   ]
  },
  {
   "cell_type": "markdown",
   "metadata": {},
   "source": [
    "Metadata stats"
   ]
  },
  {
   "cell_type": "code",
   "execution_count": 27,
   "metadata": {},
   "outputs": [
    {
     "name": "stdout",
     "output_type": "stream",
     "text": [
      "Ang grant 1432\n",
      "Ang grant Counter({'1': 933, '0': 499})\n",
      "Eng grant 16976\n",
      "Eng grant Counter({'0': 13419, '1': 3557})\n"
     ]
    }
   ],
   "source": [
    "EngGrantPath = '../data/metadata/eng/EngOrdGrant'\n",
    "AngGrantPath = '../data/metadata/ang/AngOrdGrant'\n",
    "ang_grant = get_words(AngGrantPath)\n",
    "ang_grant_freq = get_freq(AngGrantPath)\n",
    "print(\"Ang grant\", len(ang_grant))\n",
    "print(\"Ang grant\", ang_grant_freq)  \n",
    "eng_grant = get_words(EngGrantPath)\n",
    "eng_grant_freq = get_freq(EngGrantPath)\n",
    "print(\"Eng grant\", len(eng_grant))\n",
    "print(\"Eng grant\", eng_grant_freq)"
   ]
  },
  {
   "cell_type": "code",
   "execution_count": 28,
   "metadata": {},
   "outputs": [
    {
     "name": "stdout",
     "output_type": "stream",
     "text": [
      "Ang conf 1432\n",
      "Ang conf Counter({'0': 1324, '1': 108})\n",
      "Eng conf 16976\n",
      "Eng conf Counter({'0': 14805, '1': 2171})\n"
     ]
    }
   ],
   "source": [
    "AngConfPath = '../data/metadata/ang/AngOrdConfirm'\n",
    "EngConfPath = '../data/metadata/eng/EngOrdConfirm'\n",
    "ang_conf = get_words(AngConfPath)\n",
    "ang_conf_freq = get_freq(AngConfPath)\n",
    "print(\"Ang conf\", len(ang_conf))\n",
    "print(\"Ang conf\", ang_conf_freq)\n",
    "eng_conf = get_words(EngConfPath)\n",
    "eng_conf_freq = get_freq(EngConfPath)\n",
    "print(\"Eng conf\", len(eng_conf))\n",
    "print(\"Eng conf\", eng_conf_freq)"
   ]
  },
  {
   "cell_type": "code",
   "execution_count": 32,
   "metadata": {},
   "outputs": [
    {
     "name": "stdout",
     "output_type": "stream",
     "text": [
      "Ang rel 1432\n",
      "Ang rel Counter({'Benedictine': 1212, 'NA': 220})\n",
      "Eng rel 16976\n",
      "Eng rel Counter({'NA': 9487, 'Augustinian': 2897, 'Benedictine': 2866, 'Cistercian': 766, 'Hospitaller': 247, 'Cluniac': 226, 'Premonstratensian': 190, 'Gilbertine': 172, 'Templar': 66, 'Franciscan': 59})\n"
     ]
    }
   ],
   "source": [
    "AngRelPath = '../data/metadata/ang/AngOrdRel'\n",
    "EngRelPath = '../data/metadata/eng/EngOrdRel'\n",
    "ang_rel = get_words(AngRelPath)\n",
    "ang_rel_freq = get_freq(AngRelPath)\n",
    "print(\"Ang rel\", len(ang_rel))\n",
    "print(\"Ang rel\", ang_rel_freq)\n",
    "eng_rel = get_words(EngRelPath)\n",
    "eng_rel_freq = get_freq(EngRelPath)\n",
    "print(\"Eng rel\", len(eng_rel))\n",
    "print(\"Eng rel\", eng_rel_freq)"
   ]
  }
 ],
 "metadata": {
  "kernelspec": {
   "display_name": "base",
   "language": "python",
   "name": "python3"
  },
  "language_info": {
   "codemirror_mode": {
    "name": "ipython",
    "version": 3
   },
   "file_extension": ".py",
   "mimetype": "text/x-python",
   "name": "python",
   "nbconvert_exporter": "python",
   "pygments_lexer": "ipython3",
   "version": "3.11.5"
  }
 },
 "nbformat": 4,
 "nbformat_minor": 2
}
