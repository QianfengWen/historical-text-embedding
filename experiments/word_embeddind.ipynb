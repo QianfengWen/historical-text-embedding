{
 "cells": [
  {
   "attachments": {},
   "cell_type": "markdown",
   "metadata": {},
   "source": [
    "# Loading Data\n",
    "\n",
    "We start by importing the training dataset, which is divided into three key Norman periods:\n",
    "* 1066 - 1216: Encompasses the Norman Conquest and ends with the Magna Carta's issuance.\n",
    "* 1217 - 1272: The reign of Henry III, noted for legal and architectural advancements.\n",
    "* 1273 - 1310: Edward I's era, marked by legal reforms and military campaigns."
   ]
  },
  {
   "cell_type": "code",
   "execution_count": 3,
   "metadata": {},
   "outputs": [],
   "source": [
    "# define time period split\n",
    "TIME_PERIODS = (\n",
    "    (1066, 1216),\n",
    "    (1217, 1272),\n",
    "    (1273, 1310)\n",
    ")\n",
    "\n",
    "# split the data based on the time period split\n",
    "TEXTS = {period: [] for period in TIME_PERIODS}\n",
    "with open(\"../data/EngOrdtext\") as f_texts, open(\"../data/EngOrdDate\") as f_dates:\n",
    "    for line in f_dates:\n",
    "        dates = line.split()\n",
    "        for date in dates:\n",
    "            for (start, end) in TIME_PERIODS:\n",
    "                if start <= int(date) <= end:\n",
    "                    TEXTS[(start, end)].append(next(f_texts))\n",
    "                    break\n",
    "\n",
    "# creating separate txt file for each time split\n",
    "for (start, end), texts in TEXTS.items():\n",
    "    file_name = f\"norman_{start}_{end}.txt\"\n",
    "    with open(file_name, \"w\") as f:\n",
    "        for text in texts:\n",
    "            f.write(f\"{text}\")"
   ]
  },
  {
   "attachments": {},
   "cell_type": "markdown",
   "metadata": {},
   "source": [
    "# Word Embedding Training\n",
    "\n",
    "We trained word embeddings for distinct periods using `FastText`, focusing on subword information. Hyperparameter settings are:\n",
    "\n",
    "- `minn` and `maxn`: 6 \n",
    "- `lr`: 0.05\n",
    "- `dim`: 100 \n",
    "- `ws`: 5\n",
    "- `epoch`: 30 \n",
    "- `neg`: 5 "
   ]
  },
  {
   "cell_type": "code",
   "execution_count": 4,
   "metadata": {},
   "outputs": [
    {
     "name": "stderr",
     "output_type": "stream",
     "text": [
      "Read 3M words\n",
      "Number of words:  25307\n",
      "Number of labels: 0\n",
      "Progress: 100.0% words/sec/thread:  131460 lr:  0.000000 avg.loss:  1.370082 ETA:   0h 0m 0s\n",
      "Read 1M words\n",
      "Number of words:  11527\n",
      "Number of labels: 0\n",
      "Progress: 100.0% words/sec/thread:  149511 lr:  0.000000 avg.loss:  1.684981 ETA:   0h 0m 0s\n",
      "Read 1M words\n",
      "Number of words:  13823\n",
      "Number of labels: 0\n",
      "Progress: 100.0% words/sec/thread:  137494 lr:  0.000002 avg.loss:  1.639278 ETA:   0h 0m 0s0.000000 avg.loss:  1.639278 ETA:   0h 0m 0s\n",
      "Read 0M words\n",
      "Number of words:  10632\n",
      "Number of labels: 0\n",
      "Progress: 100.0% words/sec/thread:  153676 lr:  0.000000 avg.loss:  1.585814 ETA:   0h 0m 0s\n"
     ]
    }
   ],
   "source": [
    "# !pip install fasttext\n",
    "import fasttext\n",
    "import os\n",
    "\n",
    "if not os.path.exists(\"trained_model\"):\n",
    "    os.makedirs(\"trained_model\")\n",
    "\n",
    "minn = 6\n",
    "maxn = 6\n",
    "lr = 0.05\n",
    "dim = 100\n",
    "ws = 5\n",
    "epoch = 30\n",
    "neg = 5\n",
    "\n",
    "# train the overall model\n",
    "file_name = \"../data/EngOrdtext\"\n",
    "model = fasttext.train_unsupervised(\n",
    "    file_name, model=\"skipgram\", \n",
    "    minn=minn, \n",
    "    maxn=maxn,\n",
    "    lr=lr,\n",
    "    dim=dim,\n",
    "    ws=ws,\n",
    "    epoch=epoch,\n",
    "    neg=neg\n",
    ")\n",
    "model_name = f\"trained_model/norman_all.bin\"\n",
    "model.save_model(model_name)\n",
    "\n",
    "# train the period specific model\n",
    "for (start, end) in TIME_PERIODS:\n",
    "    file_name = f\"norman_{start}_{end}.txt\"\n",
    "    model = fasttext.train_unsupervised(\n",
    "        file_name, model=\"skipgram\", \n",
    "        minn=minn, \n",
    "        maxn=maxn,\n",
    "        lr=lr,\n",
    "        dim=dim,\n",
    "        ws=ws,\n",
    "        epoch=epoch,\n",
    "        neg=neg\n",
    "    )\n",
    "    model_name = f\"trained_model/norman_{start}_{end}.bin\"\n",
    "    model.save_model(model_name)\n",
    "    \n",
    "    # remove the temp file\n",
    "    os.remove(file_name)"
   ]
  },
  {
   "attachments": {},
   "cell_type": "markdown",
   "metadata": {},
   "source": [
    "# Load Model\n",
    "\n",
    "note: this part can be done separately from previous part given trained model."
   ]
  },
  {
   "cell_type": "code",
   "execution_count": 1,
   "metadata": {},
   "outputs": [
    {
     "name": "stderr",
     "output_type": "stream",
     "text": [
      "Warning : `load_model` does not return WordVectorModel or SupervisedModel any more, but a `FastText` object which is very similar.\n"
     ]
    }
   ],
   "source": [
    "import fasttext\n",
    "\n",
    "# load overall model\n",
    "model_path = f\"trained_model/norman_all.bin\"\n",
    "model = fasttext.load_model(model_path)"
   ]
  },
  {
   "cell_type": "code",
   "execution_count": null,
   "metadata": {},
   "outputs": [],
   "source": []
  },
  {
   "cell_type": "code",
   "execution_count": null,
   "metadata": {},
   "outputs": [],
   "source": []
  }
 ],
 "metadata": {
  "kernelspec": {
   "display_name": "PyWS",
   "language": "python",
   "name": "python3"
  },
  "language_info": {
   "codemirror_mode": {
    "name": "ipython",
    "version": 3
   },
   "file_extension": ".py",
   "mimetype": "text/x-python",
   "name": "python",
   "nbconvert_exporter": "python",
   "pygments_lexer": "ipython3",
   "version": "3.10.6"
  },
  "orig_nbformat": 4
 },
 "nbformat": 4,
 "nbformat_minor": 2
}
